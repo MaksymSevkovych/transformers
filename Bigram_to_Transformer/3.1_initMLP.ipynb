{
 "cells": [
  {
   "cell_type": "code",
   "execution_count": 9,
   "metadata": {},
   "outputs": [],
   "source": [
    "import matplotlib.pyplot as plt\n",
    "import torch\n",
    "import torch.nn.functional as F\n",
    "\n",
    "\n",
    "%matplotlib inline"
   ]
  },
  {
   "cell_type": "code",
   "execution_count": 10,
   "metadata": {},
   "outputs": [
    {
     "data": {
      "text/plain": [
       "['emma', 'olivia', 'ava', 'isabella', 'sophia', 'charlotte', 'mia', 'amelia']"
      ]
     },
     "execution_count": 10,
     "metadata": {},
     "output_type": "execute_result"
    }
   ],
   "source": [
    "# read all words\n",
    "words = open(\"./makemore/names.txt\", \"r\").read().splitlines()\n",
    "words[:8]"
   ]
  },
  {
   "cell_type": "code",
   "execution_count": 11,
   "metadata": {},
   "outputs": [
    {
     "data": {
      "text/plain": [
       "32033"
      ]
     },
     "execution_count": 11,
     "metadata": {},
     "output_type": "execute_result"
    }
   ],
   "source": [
    "len(words)"
   ]
  },
  {
   "cell_type": "code",
   "execution_count": 12,
   "metadata": {},
   "outputs": [
    {
     "name": "stdout",
     "output_type": "stream",
     "text": [
      "{1: 'a', 2: 'b', 3: 'c', 4: 'd', 5: 'e', 6: 'f', 7: 'g', 8: 'h', 9: 'i', 10: 'j', 11: 'k', 12: 'l', 13: 'm', 14: 'n', 15: 'o', 16: 'p', 17: 'q', 18: 'r', 19: 's', 20: 't', 21: 'u', 22: 'v', 23: 'w', 24: 'x', 25: 'y', 26: 'z', 0: '.'}\n",
      "27\n"
     ]
    }
   ],
   "source": [
    "# build the vocabulary of characters and mapping to/from integers\n",
    "chars = sorted(list(set(\"\".join(words))))\n",
    "stoi = {s: i+1 for i, s in enumerate(chars)}\n",
    "stoi[\".\"] = 0\n",
    "itos = {i: s for s, i in stoi.items()}\n",
    "vocab_size = len(itos)\n",
    "print(itos)\n",
    "print(vocab_size)"
   ]
  },
  {
   "cell_type": "code",
   "execution_count": 13,
   "metadata": {},
   "outputs": [],
   "source": [
    "import random\n",
    "# build the dataset\n",
    "block_size = 3 # context length: how many characters do we take to predict the next one?\n",
    "\n",
    "# build the dataset\n",
    "def build_dataset(words):\n",
    "    X, Y = [], []\n",
    "    for w in words:\n",
    "        # print(w)\n",
    "        context = [0] * block_size\n",
    "        for ch in w +\".\":\n",
    "            ix = stoi[ch]\n",
    "            X.append(context)\n",
    "            Y.append(ix)\n",
    "            # print(\"\".join(itos[i] for i in context), \"--->\", itos[ix])\n",
    "            context = context[1:] + [ix] # crop and append\n",
    "\n",
    "    X = torch.tensor(X)\n",
    "    Y = torch.tensor(Y)\n",
    "    print(X.shape, Y.shape)\n",
    "    return X, Y"
   ]
  },
  {
   "cell_type": "code",
   "execution_count": 14,
   "metadata": {},
   "outputs": [
    {
     "name": "stdout",
     "output_type": "stream",
     "text": [
      "torch.Size([182625, 3]) torch.Size([182625])\n",
      "torch.Size([22655, 3]) torch.Size([22655])\n",
      "torch.Size([22866, 3]) torch.Size([22866])\n"
     ]
    }
   ],
   "source": [
    "random.seed(42)\n",
    "random.shuffle(words)\n",
    "n1 = int(0.8*len(words))\n",
    "n2 = int(0.9*len(words))\n",
    "\n",
    "Xtr, Ytr = build_dataset(words[:n1])\n",
    "Xdev, Ydev = build_dataset(words[n1:n2])\n",
    "Xte, Yte = build_dataset(words[n2:])"
   ]
  },
  {
   "cell_type": "code",
   "execution_count": 97,
   "metadata": {},
   "outputs": [
    {
     "name": "stdout",
     "output_type": "stream",
     "text": [
      "12297\n"
     ]
    }
   ],
   "source": [
    "# MLP revisited\n",
    "n_embd = 10 # the dimensionality of the character embedding vectors\n",
    "n_hidden = 200 # the number of neurons in the hidden layer of the MLP\n",
    "\n",
    "g = torch.Generator().manual_seed(2147483647) # for reproducibility\n",
    "C = torch.randn((vocab_size, n_embd),               generator=g)\n",
    "W1 = torch.randn((n_embd * block_size, n_hidden),   generator=g) * (5 / 3) / (n_embd * block_size) ** 0.5 # * 0.2   # multiply with a factor to make the pre-activation of h closer to 0\n",
    "b1 = torch.randn(n_hidden,                          generator=g) * 0.01  # multiply with a factor to make the pre-activation of h closer to 0 \n",
    "W2 = torch.randn((n_hidden, vocab_size),            generator=g) * 0.01  # multiply with a factor to make loss upon initialization closer to 0\n",
    "b2 = torch.randn(vocab_size,                        generator=g) * 0     # multiply with a factor to make loss upon initialization closer to 0\n",
    "\n",
    "# BatchNorm parameters\n",
    "bngain = torch.ones((1, n_hidden))\n",
    "bnbias = torch.zeros((1, n_hidden))\n",
    "bnmean_running = torch.zeros((1, n_hidden))\n",
    "bnstd_running = torch.ones((1, n_hidden))\n",
    "\n",
    "parameters = [C, W1, b1, W2, b2, bngain, bnbias]\n",
    "print(sum(p.nelement() for p in parameters)) # number of trainable parameters in total\n",
    "for p in parameters:\n",
    "    p.requires_grad = True"
   ]
  },
  {
   "cell_type": "code",
   "execution_count": 79,
   "metadata": {},
   "outputs": [
    {
     "data": {
      "text/plain": [
       "0.3042903097250923"
      ]
     },
     "execution_count": 79,
     "metadata": {},
     "output_type": "execute_result"
    }
   ],
   "source": [
    "(5 / 3) / (n_embd * block_size) ** 0.5 # factor for W1 which makes C @ W1 a standard normal gaussian"
   ]
  },
  {
   "cell_type": "code",
   "execution_count": 72,
   "metadata": {},
   "outputs": [
    {
     "name": "stdout",
     "output_type": "stream",
     "text": [
      "tensor(-0.0006) tensor(0.9960)\n",
      "tensor(-7.8157e-05) tensor(1.0277)\n"
     ]
    },
    {
     "data": {
      "text/plain": [
       "(array([6.30244318e-05, 4.20162878e-05, 0.00000000e+00, 1.68065151e-04,\n",
       "        2.52097727e-04, 3.78146591e-04, 4.41171022e-04, 8.19317613e-04,\n",
       "        1.47057007e-03, 2.58400170e-03, 4.15961250e-03, 7.05873636e-03,\n",
       "        1.08191941e-02, 1.86972481e-02, 2.73946197e-02, 4.18482227e-02,\n",
       "        6.53353276e-02, 9.61962910e-02, 1.36111764e-01, 1.87350627e-01,\n",
       "        2.44786893e-01, 3.11718839e-01, 3.67369413e-01, 4.03503420e-01,\n",
       "        4.19637675e-01, 4.04700884e-01, 3.60184627e-01, 2.96277854e-01,\n",
       "        2.31887893e-01, 1.78779305e-01, 1.27666491e-01, 8.82972289e-02,\n",
       "        5.91379251e-02, 3.88650662e-02, 2.52097727e-02, 1.55040102e-02,\n",
       "        9.99987650e-03, 6.26042689e-03, 4.34868579e-03, 2.60500985e-03,\n",
       "        1.44956193e-03, 1.00839091e-03, 5.25203598e-04, 2.52097727e-04,\n",
       "        2.10081439e-04, 1.26048864e-04, 4.20162878e-05, 4.20162878e-05,\n",
       "        2.10081439e-05, 2.10081439e-05]),\n",
       " array([-5.80797958, -5.56997664, -5.33197371, -5.09397077, -4.85596783,\n",
       "        -4.61796489, -4.37996195, -4.14195901, -3.90395607, -3.66595313,\n",
       "        -3.42795019, -3.18994725, -2.95194431, -2.71394137, -2.47593843,\n",
       "        -2.2379355 , -1.99993256, -1.76192962, -1.52392668, -1.28592374,\n",
       "        -1.0479208 , -0.80991786, -0.57191492, -0.33391198, -0.09590904,\n",
       "         0.1420939 ,  0.38009684,  0.61809978,  0.85610271,  1.09410565,\n",
       "         1.33210859,  1.57011153,  1.80811447,  2.04611741,  2.28412035,\n",
       "         2.52212329,  2.76012623,  2.99812917,  3.23613211,  3.47413505,\n",
       "         3.71213799,  3.95014092,  4.18814386,  4.4261468 ,  4.66414974,\n",
       "         4.90215268,  5.14015562,  5.37815856,  5.6161615 ,  5.85416444,\n",
       "         6.09216738]),\n",
       " <BarContainer object of 50 artists>)"
      ]
     },
     "execution_count": 72,
     "metadata": {},
     "output_type": "execute_result"
    },
    {
     "data": {
      "image/png": "[encoded data removed]",
      "text/plain": [
       "<Figure size 2000x500 with 2 Axes>"
      ]
     },
     "metadata": {},
     "output_type": "display_data"
    }
   ],
   "source": [
    "x = torch.randn(1000, 10)\n",
    "w = torch.randn(10, 200) / 10**0.5 # the denominator is due to the fact that we want to preservethe gaussian after the matmul x @ w. (Kaiming init!!!)\n",
    "y = x @ w\n",
    "\n",
    "print(x.mean(), x.std())\n",
    "print(y.mean(), y.std())\n",
    "\n",
    "plt.figure(figsize=(20, 5))\n",
    "plt.subplot(121)\n",
    "plt.hist(x.view(-1).tolist(), 50, density=True)\n",
    "plt.subplot(122)\n",
    "plt.hist(y.view(-1).tolist(), 50, density=True)"
   ]
  },
  {
   "cell_type": "code",
   "execution_count": 98,
   "metadata": {},
   "outputs": [
    {
     "name": "stdout",
     "output_type": "stream",
     "text": [
      "      0/ 200000: 3.3147\n",
      "  10000/ 200000: 2.1984\n",
      "  20000/ 200000: 2.3375\n",
      "  30000/ 200000: 2.4359\n",
      "  40000/ 200000: 2.0119\n",
      "  50000/ 200000: 2.2595\n",
      "  60000/ 200000: 2.4775\n",
      "  70000/ 200000: 2.1020\n",
      "  80000/ 200000: 2.2788\n",
      "  90000/ 200000: 2.1862\n",
      " 100000/ 200000: 1.9474\n",
      " 110000/ 200000: 2.3010\n",
      " 120000/ 200000: 1.9837\n",
      " 130000/ 200000: 2.4523\n",
      " 140000/ 200000: 2.3839\n",
      " 150000/ 200000: 2.1987\n",
      " 160000/ 200000: 1.9733\n",
      " 170000/ 200000: 1.8668\n",
      " 180000/ 200000: 1.9973\n",
      " 190000/ 200000: 1.8347\n"
     ]
    }
   ],
   "source": [
    "# same optimization as last time\n",
    "max_steps = 200000\n",
    "batch_size = 32\n",
    "lossi = []\n",
    "\n",
    "for i in range(max_steps):\n",
    "\n",
    "    # mini batch construct\n",
    "    ix = torch.randint(0, Xtr.shape[0], (batch_size,), generator=g)\n",
    "    Xb, Yb = Xtr[ix], Ytr[ix] # batch X, Y\n",
    "\n",
    "    # forward pass\n",
    "    emb = C[Xb] # embed the characters into vectors\n",
    "    embcat = emb.view(emb.shape[0], -1) # concatenate the vectors\n",
    "    # Linear layer\n",
    "    hpreact = embcat @ W1 #+ b1 # hidden layer pre-activation # NOTE: if you normalize a layer, adding a bias previously gets thrown out anyways!\n",
    "    # BatchNorm layer\n",
    "    # --------------------------------------------------------------\n",
    "    bnmeani = hpreact.mean(0, keepdim=True)\n",
    "    bnstdi = hpreact.std(0, keepdim=True)\n",
    "    hpreact = bngain * (hpreact - bnmeani) / bnstdi + bnbias # normalize the batch to be a unit gaussian and then scale it\n",
    "    with torch.no_grad():\n",
    "        bnmean_running = 0.999 * bnmean_running + 0.001 * bnmeani\n",
    "        bnstd_running = 0.999 * bnstd_running + 0.001 * bnstdi\n",
    "    # --------------------------------------------------------------\n",
    "    # Non-linearity\n",
    "    h = torch.tanh(hpreact) # hidden layer\n",
    "    logits = h @ W2 + b2 # output layer\n",
    "    loss = F.cross_entropy(logits, Yb) # loss function\n",
    "\n",
    "    # backward pass\n",
    "    for p in parameters:\n",
    "        p.grad = None\n",
    "    loss.backward()\n",
    "\n",
    "    # update\n",
    "    lr = 0.1 if i < 100000 else 0.01 # step learning rate decay\n",
    "    for p in parameters:\n",
    "        p.data += -lr * p.grad\n",
    "\n",
    "    # track stats\n",
    "    if not i % 10000: # print every once in a while\n",
    "        print(f\"{i:7d}/{max_steps:7d}: {loss.item():.4f}\")\n",
    "    lossi.append(loss.log10().item())\n",
    "\n",
    "    # break"
   ]
  },
  {
   "cell_type": "code",
   "execution_count": 82,
   "metadata": {},
   "outputs": [
    {
     "data": {
      "text/plain": [
       "<matplotlib.image.AxesImage at 0x29ad9b7c0>"
      ]
     },
     "execution_count": 82,
     "metadata": {},
     "output_type": "execute_result"
    },
    {
     "data": {
      "image/png": "[encoded data removed]",
      "text/plain": [
       "<Figure size 2000x1000 with 1 Axes>"
      ]
     },
     "metadata": {},
     "output_type": "display_data"
    }
   ],
   "source": [
    "plt.figure(figsize=(20, 10))\n",
    "plt.imshow(h.abs() > 0.99, cmap=\"gray\", interpolation=\"nearest\")"
   ]
  },
  {
   "cell_type": "code",
   "execution_count": 83,
   "metadata": {},
   "outputs": [
    {
     "data": {
      "text/plain": [
       "(array([1059.,  229.,  163.,  142.,   95.,   83.,   67.,   63.,   57.,\n",
       "          65.,   76.,   51.,   69.,   65.,   85.,   91.,   75.,   53.,\n",
       "          62.,   76.,   70.,  100.,  117.,   91.,  110.,  125.,  104.,\n",
       "          72.,  108.,   70.,   62.,   62.,   65.,   64.,   54.,   58.,\n",
       "          65.,   62.,   53.,   53.,   53.,   66.,   67.,   81.,   93.,\n",
       "         101.,  116.,  179.,  231., 1122.]),\n",
       " array([-9.99999940e-01, -9.59999942e-01, -9.19999943e-01, -8.79999944e-01,\n",
       "        -8.39999945e-01, -7.99999946e-01, -7.59999948e-01, -7.19999949e-01,\n",
       "        -6.79999950e-01, -6.39999951e-01, -5.99999952e-01, -5.59999954e-01,\n",
       "        -5.19999955e-01, -4.79999956e-01, -4.39999957e-01, -3.99999958e-01,\n",
       "        -3.59999959e-01, -3.19999961e-01, -2.79999962e-01, -2.39999963e-01,\n",
       "        -1.99999964e-01, -1.59999965e-01, -1.19999967e-01, -7.99999678e-02,\n",
       "        -3.99999690e-02,  2.98023224e-08,  4.00000286e-02,  8.00000274e-02,\n",
       "         1.20000026e-01,  1.60000025e-01,  2.00000024e-01,  2.40000023e-01,\n",
       "         2.80000021e-01,  3.20000020e-01,  3.60000019e-01,  4.00000018e-01,\n",
       "         4.40000017e-01,  4.80000015e-01,  5.20000014e-01,  5.60000013e-01,\n",
       "         6.00000012e-01,  6.40000011e-01,  6.80000010e-01,  7.20000008e-01,\n",
       "         7.60000007e-01,  8.00000006e-01,  8.40000005e-01,  8.80000004e-01,\n",
       "         9.20000002e-01,  9.60000001e-01,  1.00000000e+00]),\n",
       " <BarContainer object of 50 artists>)"
      ]
     },
     "execution_count": 83,
     "metadata": {},
     "output_type": "execute_result"
    },
    {
     "data": {
      "image/png": "[encoded data removed]",
      "text/plain": [
       "<Figure size 640x480 with 1 Axes>"
      ]
     },
     "metadata": {},
     "output_type": "display_data"
    }
   ],
   "source": [
    "plt.hist(h.view(-1).tolist(), 50)"
   ]
  },
  {
   "cell_type": "code",
   "execution_count": 84,
   "metadata": {},
   "outputs": [
    {
     "data": {
      "text/plain": [
       "(array([  4.,   3.,   0.,   6.,   4.,   8.,   9.,  14.,  32.,  30.,  39.,\n",
       "         69.,  68.,  73., 124., 156., 164., 192., 232., 291., 318., 369.,\n",
       "        630., 891., 491., 340., 310., 299., 224., 221., 173., 124., 112.,\n",
       "         92.,  67.,  43.,  49.,  31.,  34.,  21.,  17.,   8.,   3.,   4.,\n",
       "          5.,   1.,   1.,   1.,   2.,   1.]),\n",
       " array([-8.9167347 , -8.5355937 , -8.15445271, -7.77331171, -7.39217072,\n",
       "        -7.01102972, -6.62988873, -6.24874773, -5.86760674, -5.48646574,\n",
       "        -5.10532475, -4.72418375, -4.34304276, -3.96190176, -3.58076077,\n",
       "        -3.19961977, -2.81847878, -2.43733778, -2.05619678, -1.67505579,\n",
       "        -1.29391479, -0.9127738 , -0.5316328 , -0.15049181,  0.23064919,\n",
       "         0.61179018,  0.99293118,  1.37407217,  1.75521317,  2.13635416,\n",
       "         2.51749516,  2.89863615,  3.27977715,  3.66091814,  4.04205914,\n",
       "         4.42320013,  4.80434113,  5.18548212,  5.56662312,  5.94776411,\n",
       "         6.32890511,  6.7100461 ,  7.0911871 ,  7.47232809,  7.85346909,\n",
       "         8.23461008,  8.61575108,  8.99689207,  9.37803307,  9.75917406,\n",
       "        10.14031506]),\n",
       " <BarContainer object of 50 artists>)"
      ]
     },
     "execution_count": 84,
     "metadata": {},
     "output_type": "execute_result"
    },
    {
     "data": {
      "image/png": "[encoded data removed]",
      "text/plain": [
       "<Figure size 640x480 with 1 Axes>"
      ]
     },
     "metadata": {},
     "output_type": "display_data"
    }
   ],
   "source": [
    "plt.hist(hpreact.view(-1).tolist(), 50)"
   ]
  },
  {
   "cell_type": "code",
   "execution_count": 26,
   "metadata": {},
   "outputs": [
    {
     "data": {
      "text/plain": [
       "tensor([ -2.3527,  36.4366, -10.7306,   5.7165,  18.6409, -11.6998,  -2.1991,\n",
       "          1.8535,  10.9996,  10.6730,  12.3507, -10.3809,   4.7243, -24.4257,\n",
       "         -8.5909,   1.9024, -12.2744, -12.4751, -23.2778,  -2.0163,  25.8767,\n",
       "         14.2108,  17.7691, -10.9204, -20.7335,   6.4560,  11.1615],\n",
       "       grad_fn=<SelectBackward0>)"
      ]
     },
     "execution_count": 26,
     "metadata": {},
     "output_type": "execute_result"
    }
   ],
   "source": [
    "logits[0]"
   ]
  },
  {
   "cell_type": "markdown",
   "metadata": {},
   "source": [
    "We realise that the initialisation of the neural network is bad! We expect that each character (letter) has the same probability. Therefore, each probability would be 1/27. We then expect the initial loss to be the negative log of this probability (see the next cell). To solve this, one usually sets the bias for the output layer to 0 and the weights (`W2` in our case) very small (by multiplying a small factor)."
   ]
  },
  {
   "cell_type": "code",
   "execution_count": 23,
   "metadata": {},
   "outputs": [
    {
     "name": "stdout",
     "output_type": "stream",
     "text": [
      "tensor(3.2958)\n"
     ]
    }
   ],
   "source": [
    "expected_loss = - torch.tensor(1 / 27.0).log()\n",
    "\n",
    "print(expected_loss)"
   ]
  },
  {
   "cell_type": "code",
   "execution_count": 65,
   "metadata": {},
   "outputs": [
    {
     "data": {
      "text/plain": [
       "[<matplotlib.lines.Line2D at 0x284f79430>]"
      ]
     },
     "execution_count": 65,
     "metadata": {},
     "output_type": "execute_result"
    },
    {
     "data": {
      "image/png": "[encoded data removed]",
      "text/plain": [
       "<Figure size 640x480 with 1 Axes>"
      ]
     },
     "metadata": {},
     "output_type": "display_data"
    }
   ],
   "source": [
    "plt.plot(lossi)"
   ]
  },
  {
   "cell_type": "code",
   "execution_count": 99,
   "metadata": {},
   "outputs": [],
   "source": [
    "# calibrate the batch norm at the end of training\n",
    "\n",
    "with torch.no_grad():\n",
    "    # pass the training set through\n",
    "    emb = C[Xtr]\n",
    "    embcat = emb.view(emb.shape[0], -1)\n",
    "    hpreact = embcat @ W1 + b1\n",
    "    # measure the mean/std over entire training set\n",
    "    bnmean = hpreact.mean(0, keepdim=True) \n",
    "    bnstd = hpreact.std(0, keepdim=True) \n",
    "\n",
    "# NOTE: this explicit calibration is not needed, since we determine the bnmean and bnstd alongside the training!"
   ]
  },
  {
   "cell_type": "code",
   "execution_count": 104,
   "metadata": {},
   "outputs": [
    {
     "name": "stdout",
     "output_type": "stream",
     "text": [
      "train 2.066591501235962\n",
      "val 2.1050572395324707\n"
     ]
    }
   ],
   "source": [
    "@torch.no_grad() # this decorator disables gradient tracking\n",
    "def split_loss(split):\n",
    "    x, y = {\n",
    "        \"train\": (Xtr, Ytr),\n",
    "        \"val\": (Xdev, Ydev),\n",
    "        \"test\": (Xte, Yte),\n",
    "    }[split]\n",
    "    emb = C[x] # (N, block_size, n_embd)\n",
    "    embcat = emb.view(emb.shape[0], -1)\n",
    "    hpreact = embcat @ W1 #+ b1 # NOTE: if you normalize a layer, adding a bias previously gets thrown out anyways!\n",
    "    # hpreact = bngain * (hpreact - bnmean) / bnstd + bnbias # normalize with mean/std determined over entire training set\n",
    "    hpreact = bngain * (hpreact - bnmean_running) / bnstd_running + bnbias # normalize with mean/std learned alongside training\n",
    "    h = torch.tanh(hpreact)\n",
    "    logits = h @ W2 + b2 # (N, vocab_size)\n",
    "    loss = F.cross_entropy(logits, y)\n",
    "    print(split, loss.item())\n",
    "\n",
    "split_loss(\"train\")\n",
    "split_loss(\"val\")\n"
   ]
  },
  {
   "cell_type": "code",
   "execution_count": 67,
   "metadata": {},
   "outputs": [
    {
     "name": "stdout",
     "output_type": "stream",
     "text": [
      "carmahzauri.\n",
      "jai.\n",
      "kimri.\n",
      "reh.\n",
      "casparsha.\n",
      "jazhith.\n",
      "deliah.\n",
      "jareei.\n",
      "nellara.\n",
      "chaily.\n",
      "kaleigh.\n",
      "ham.\n",
      "jorn.\n",
      "quint.\n",
      "salin.\n",
      "alianni.\n",
      "waythoniearyn.\n",
      "kai.\n",
      "euliyuan.\n",
      "eddeli.\n"
     ]
    }
   ],
   "source": [
    "# sample from the model\n",
    "g = torch.Generator().manual_seed(2147483647 + 10)\n",
    "\n",
    "for _ in range(20):\n",
    "    out = []\n",
    "    context = [0] * block_size # initialize as \"...\"\n",
    "    while True:\n",
    "        \n",
    "        # forward pass the neural network\n",
    "        emb = C[torch.tensor([context])] # (1, block_size, n_embd)\n",
    "        h = torch.tanh(emb.view(1, -1) @ W1 + b1)\n",
    "        logits = h @ W2 +b2\n",
    "        probs = F.softmax(logits, dim=1)\n",
    "\n",
    "        # sample from the distribution\n",
    "        ix = torch.multinomial(probs, num_samples=1, generator=g).item()\n",
    "\n",
    "        # shift the context window and track the samples\n",
    "        context = context[1:] + [ix]\n",
    "        out.append(ix)\n",
    "        # if we sample the special \".\" token, break\n",
    "\n",
    "        if not ix:\n",
    "            break\n",
    "    \n",
    "    print(\"\".join(itos[i] for i in out)) # decode and print the generated word"
   ]
  }
 ],
 "metadata": {
  "kernelspec": {
   "display_name": ".venv",
   "language": "python",
   "name": "python3"
  },
  "language_info": {
   "codemirror_mode": {
    "name": "ipython",
    "version": 3
   },
   "file_extension": ".py",
   "mimetype": "text/x-python",
   "name": "python",
   "nbconvert_exporter": "python",
   "pygments_lexer": "ipython3",
   "version": "3.9.6"
  }
 },
 "nbformat": 4,
 "nbformat_minor": 2
}
